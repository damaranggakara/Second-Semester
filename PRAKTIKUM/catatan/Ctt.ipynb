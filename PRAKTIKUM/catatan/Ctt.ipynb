{
 "cells": [
  {
   "cell_type": "code",
   "execution_count": 8,
   "metadata": {},
   "outputs": [],
   "source": [
    "#imports\n",
    "import pandas as pd\n",
    "import matplotlib.pyplot as plt\n",
    "from sklearn.model_selection import train_test_split\n",
    "from sklearn.linear_model import LinearRegression\n",
    "from sklearn.metrics import mean_squared_error, r2_score"
   ]
  },
  {
   "cell_type": "code",
   "execution_count": 6,
   "metadata": {},
   "outputs": [
    {
     "name": "stdout",
     "output_type": "stream",
     "text": [
      "     X     Y\n",
      "0  1.1   3.9\n",
      "1  2.0   4.3\n",
      "2  3.0   6.0\n",
      "3  3.7   5.7\n",
      "4  4.0   5.7\n",
      "5  4.9   6.8\n",
      "6  5.9   8.1\n",
      "7  7.1   9.8\n",
      "8  8.7  10.9\n",
      "9  9.6  11.3\n"
     ]
    }
   ],
   "source": [
    "#dataframe\n",
    "data = {'X': [1.1,2,3,3.7,4,4.9,5.9,7.1,8.7,9.6],\n",
    "        'Y': [3.9,4.3,6,5.7,5.7,6.8,8.1,9.8,10.9,11.3]}\n",
    "df= pd.DataFrame(data)\n",
    "print(df)"
   ]
  },
  {
   "cell_type": "code",
   "execution_count": 7,
   "metadata": {},
   "outputs": [],
   "source": [
    "#pembagian data\n",
    "x= df.iloc[:,:-1].values\n",
    "y= df.iloc[:,:1].values"
   ]
  },
  {
   "cell_type": "code",
   "execution_count": 9,
   "metadata": {},
   "outputs": [],
   "source": [
    "#data train and test (80:20)\n",
    "x_train,x_test,y_train,y_test = train_test_split(\n",
    "    x,y, test_size=0.2, random_state=0\n",
    ")"
   ]
  },
  {
   "cell_type": "code",
   "execution_count": 10,
   "metadata": {},
   "outputs": [
    {
     "name": "stdout",
     "output_type": "stream",
     "text": [
      "[8.8817842e-16]\n",
      "[[1.]]\n"
     ]
    }
   ],
   "source": [
    "#membuat regresi model\n",
    "reg=LinearRegression()\n",
    "reg.fit(x_train, y_train)\n",
    "print(reg.intercept_)\n",
    "print(reg.coef_)"
   ]
  },
  {
   "cell_type": "code",
   "execution_count": 17,
   "metadata": {},
   "outputs": [
    {
     "name": "stdout",
     "output_type": "stream",
     "text": [
      "[[5.]]\n"
     ]
    }
   ],
   "source": [
    "#A sudah bekerja 5 tahun, brp gaji A\n",
    "y=reg.intercept_+reg.coef_*5\n",
    "print(y)"
   ]
  },
  {
   "cell_type": "code",
   "execution_count": 21,
   "metadata": {},
   "outputs": [
    {
     "ename": "TypeError",
     "evalue": "unhashable type: 'numpy.ndarray'",
     "output_type": "error",
     "traceback": [
      "\u001b[1;31m---------------------------------------------------------------------------\u001b[0m",
      "\u001b[1;31mTypeError\u001b[0m                                 Traceback (most recent call last)",
      "Cell \u001b[1;32mIn[21], line 3\u001b[0m\n\u001b[0;32m      1\u001b[0m \u001b[38;5;66;03m#evaluasi\u001b[39;00m\n\u001b[0;32m      2\u001b[0m y_pred\u001b[38;5;241m=\u001b[39m reg\u001b[38;5;241m.\u001b[39mpredict(x_test)\n\u001b[1;32m----> 3\u001b[0m data2\u001b[38;5;241m=\u001b[39m {\u001b[38;5;124m'\u001b[39m\u001b[38;5;124mdata sebenanrnya:\u001b[39m\u001b[38;5;124m'\u001b[39m, y_test, \u001b[38;5;124m'\u001b[39m\u001b[38;5;124mdata Prediksi\u001b[39m\u001b[38;5;124m'\u001b[39m, y_pred}\n",
      "\u001b[1;31mTypeError\u001b[0m: unhashable type: 'numpy.ndarray'"
     ]
    }
   ],
   "source": [
    "#evaluasi\n",
    "y_pred= reg.predict(x_test)\n",
    "data2= {'data sebenanrnya:', y_test, \n",
    "        'data Prediksi', y_pred}\n",
    "\n"
   ]
  },
  {
   "cell_type": "code",
   "execution_count": 22,
   "metadata": {},
   "outputs": [
    {
     "name": "stdout",
     "output_type": "stream",
     "text": [
      "MSE: 0.0\n",
      "R-Squared: 1.0\n"
     ]
    }
   ],
   "source": [
    "#akurasi model\n",
    "#mse\n",
    "mse=mean_squared_error(y_test,y_pred)\n",
    "print(\"MSE:\", mse)\n",
    "\n",
    "#rsquared\n",
    "R2= r2_score(y_test, y_pred)\n",
    "print(\"R-Squared:\", R2)"
   ]
  },
  {
   "cell_type": "code",
   "execution_count": null,
   "metadata": {},
   "outputs": [],
   "source": []
  }
 ],
 "metadata": {
  "kernelspec": {
   "display_name": "Python 3",
   "language": "python",
   "name": "python3"
  },
  "language_info": {
   "codemirror_mode": {
    "name": "ipython",
    "version": 3
   },
   "file_extension": ".py",
   "mimetype": "text/x-python",
   "name": "python",
   "nbconvert_exporter": "python",
   "pygments_lexer": "ipython3",
   "version": "3.12.0"
  }
 },
 "nbformat": 4,
 "nbformat_minor": 2
}
