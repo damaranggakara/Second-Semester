{
 "cells": [
  {
   "cell_type": "code",
   "execution_count": 1,
   "metadata": {},
   "outputs": [],
   "source": [
    "#UAP BASDAT\n",
    "#DAMAR PRANA ANGGAKARA\n",
    "#235091100111007\n",
    "#06\n",
    "#SOAL NO 3"
   ]
  },
  {
   "cell_type": "code",
   "execution_count": 2,
   "metadata": {},
   "outputs": [],
   "source": [
    "# Buat koneksi dan import\n",
    "import mysql.connector\n",
    "conn = mysql.connector.connect(\n",
    "    host='localhost',\n",
    "    user='root',\n",
    "    passwd='2005',\n",
    "    database='product'\n",
    ")\n",
    "kursor1=conn.cursor()"
   ]
  },
  {
   "cell_type": "code",
   "execution_count": 3,
   "metadata": {},
   "outputs": [
    {
     "name": "stdout",
     "output_type": "stream",
     "text": [
      "(1, 'Alice', 'alice@example.com', '555-1234', 'New York')\n",
      "(2, 'Bob', 'bob@example.com', '555-5678', 'Los Angeles')\n",
      "(3, 'Charlie', 'charlie@example.com', '555-8765', 'Chicago')\n",
      "(4, 'David', 'david@example.com', '555-4321', 'Houston')\n",
      "(5, 'Eva', 'eva@example.com', '555-6789', 'Phoenix')\n",
      "(6, 'Frank', 'frank@example.com', '555-3456', 'Philadelphia')\n",
      "(7, 'Grace', 'grace@example.com', '555-6543', 'San Antonio')\n",
      "(8, 'Hank', 'hank@example.com', '555-2345', 'San Diego')\n",
      "(9, 'Ivy', 'ivy@example.com', '555-5432', 'Dallas')\n",
      "(10, 'Jack', 'jack@example.com', '555-7890', 'San Jose')\n",
      "(11, 'Kara', 'kara@example.com', '555-9876', 'Austin')\n",
      "(12, 'Leo', 'leo@example.com', '555-8765', 'Jacksonville')\n",
      "(13, 'Mia', 'mia@example.com', '555-7654', 'Fort Worth')\n",
      "(14, 'Nina', 'nina@example.com', '555-6543', 'Columbus')\n",
      "(15, 'Owen', 'owen@example.com', '555-5432', 'Charlotte')\n",
      "(16, 'Paul', 'paul@example.com', '555-4321', 'San Francisco')\n",
      "(17, 'Quinn', 'quinn@example.com', '555-3210', 'Indianapolis')\n",
      "(18, 'Rose', 'rose@example.com', '555-2109', 'Seattle')\n",
      "(19, 'Sam', 'sam@example.com', '555-1098', 'Denver')\n",
      "(20, 'Tina', 'tina@example.com', '555-0987', 'Washington')\n"
     ]
    }
   ],
   "source": [
    "#display data yang diinginkan\n",
    "sql= \"SELECT * FROM product.customer\"\n",
    "kursor1.execute(sql)\n",
    "result=kursor1.fetchall()\n",
    "for row in result:\n",
    "    print(row)"
   ]
  },
  {
   "cell_type": "code",
   "execution_count": 4,
   "metadata": {},
   "outputs": [
    {
     "name": "stdout",
     "output_type": "stream",
     "text": [
      "(1, 'Electronics', 'Devices and gadgets like laptops and tablets.')\n",
      "(2, 'Mobile Devices', 'Smartphones, smartwatches, and other mobile devices.')\n",
      "(3, 'Computer Accessories', 'Monitors, printers, and other accessories for computers.')\n",
      "(4, 'Office Supplies', 'Keyboards, mice, USB drives, and other office supplies.')\n",
      "(5, 'Audio Equipment', 'Headphones, speakers, and other audio devices.')\n",
      "(6, 'Networking', 'Routers, webcams, and other networking devices.')\n"
     ]
    }
   ],
   "source": [
    "#display data yang diinginkan\n",
    "sql= \"SELECT * FROM product.productcategories\"\n",
    "kursor1.execute(sql)\n",
    "result=kursor1.fetchall()\n",
    "for row in result:\n",
    "    print(row)"
   ]
  },
  {
   "cell_type": "code",
   "execution_count": 5,
   "metadata": {},
   "outputs": [
    {
     "name": "stdout",
     "output_type": "stream",
     "text": [
      "(1, 'Laptop', 1, 1200, 50)\n",
      "(2, 'Smartphone', 2, 800, 100)\n",
      "(3, 'Tablet', 1, 600, 30)\n",
      "(4, 'Monitor', 3, 300, 75)\n",
      "(5, 'Keyboard', 4, 50, 200)\n",
      "(6, 'Mouse', 4, 25, 300)\n",
      "(7, 'Printer', 3, 150, 60)\n",
      "(8, 'Headphones', 5, 100, 150)\n",
      "(9, 'Speaker', 5, 75, 80)\n",
      "(10, 'Webcam', 6, 80, 40)\n",
      "(11, 'Charger', 2, 20, 250)\n",
      "(12, 'Router', 6, 120, 90)\n",
      "(13, 'USB Drive', 4, 15, 500)\n",
      "(14, 'External Hard Drive', 1, 100, 60)\n",
      "(15, 'Projector', 3, 400, 20)\n",
      "(16, 'Smartwatch', 2, 250, 70)\n",
      "(17, 'Fitness Tracker', 2, 150, 80)\n",
      "(18, 'Gaming Console', 1, 500, 40)\n",
      "(19, 'VR Headset', 5, 200, 30)\n",
      "(20, 'Drone', 6, 1000, 10)\n"
     ]
    }
   ],
   "source": [
    "#display data yang diinginkan\n",
    "sql= \"SELECT * FROM product.produk\"\n",
    "kursor1.execute(sql)\n",
    "result=kursor1.fetchall()\n",
    "for row in result:\n",
    "    print(row)"
   ]
  },
  {
   "cell_type": "code",
   "execution_count": 6,
   "metadata": {},
   "outputs": [
    {
     "name": "stdout",
     "output_type": "stream",
     "text": [
      "(1, 1, 1, '1/1/2024', 1)\n",
      "(2, 2, 2, '1/2/2024', 2)\n",
      "(3, 3, 3, '1/3/2024', 1)\n",
      "(4, 4, 4, '1/4/2024', 3)\n",
      "(5, 5, 5, '1/5/2024', 5)\n",
      "(6, 6, 6, '1/6/2024', 2)\n",
      "(7, 7, 7, '1/7/2024', 1)\n",
      "(8, 8, 8, '1/8/2024', 4)\n",
      "(9, 9, 9, '1/9/2024', 2)\n",
      "(10, 10, 10, '1/10/2024', 1)\n",
      "(11, 11, 11, '1/11/2024', 3)\n",
      "(12, 12, 12, '1/12/2024', 2)\n",
      "(13, 13, 13, '1/13/2024', 5)\n",
      "(14, 14, 14, '1/14/2024', 2)\n",
      "(15, 15, 15, '1/15/2024', 1)\n",
      "(16, 16, 16, '1/16/2024', 3)\n",
      "(17, 17, 17, '1/17/2024', 2)\n",
      "(18, 18, 18, '1/18/2024', 1)\n",
      "(19, 19, 19, '1/19/2024', 4)\n",
      "(20, 20, 20, '1/20/2024', 1)\n"
     ]
    }
   ],
   "source": [
    "#display data yang diinginkan\n",
    "sql= \"SELECT * FROM product.sales\"\n",
    "kursor1.execute(sql)\n",
    "result=kursor1.fetchall()\n",
    "for row in result:\n",
    "    print(row)"
   ]
  },
  {
   "cell_type": "code",
   "execution_count": 7,
   "metadata": {},
   "outputs": [
    {
     "name": "stdout",
     "output_type": "stream",
     "text": [
      "(Decimal('282210'),)\n"
     ]
    }
   ],
   "source": [
    "#total sales\n",
    "sql= \"SELECT SUM(price * quantity) AS total_sales_value FROM product.sales, product.produk;\"\n",
    "kursor1.execute(sql)\n",
    "result=kursor1.fetchall()\n",
    "for row in result:\n",
    "    print(row)"
   ]
  },
  {
   "cell_type": "code",
   "execution_count": 8,
   "metadata": {},
   "outputs": [
    {
     "name": "stdout",
     "output_type": "stream",
     "text": [
      "(2, 1600)\n",
      "(1, 1200)\n",
      "(20, 1000)\n",
      "(4, 900)\n",
      "(19, 800)\n",
      "(16, 750)\n",
      "(3, 600)\n",
      "(18, 500)\n",
      "(8, 400)\n",
      "(15, 400)\n",
      "(17, 300)\n",
      "(5, 250)\n",
      "(12, 240)\n",
      "(14, 200)\n",
      "(7, 150)\n",
      "(9, 150)\n",
      "(10, 80)\n",
      "(13, 75)\n",
      "(11, 60)\n",
      "(6, 50)\n"
     ]
    }
   ],
   "source": [
    "#sorting produk dengan sale tertinggi\n",
    "sql = \"\"\"\n",
    "SELECT \n",
    "    s.sale_id, \n",
    "    (p.price * s.quantity) AS total_sale\n",
    "FROM \n",
    "    product.sales s\n",
    "JOIN \n",
    "    product.produk p\n",
    "ON \n",
    "    s.product_id = p.product_id\n",
    "ORDER BY \n",
    "    total_sale DESC;\n",
    "\"\"\"\n",
    "kursor1.execute(sql)\n",
    "result = kursor1.fetchall()\n",
    "for row in result:\n",
    "    print(row)\n"
   ]
  }
 ],
 "metadata": {
  "kernelspec": {
   "display_name": "Python 3",
   "language": "python",
   "name": "python3"
  },
  "language_info": {
   "codemirror_mode": {
    "name": "ipython",
    "version": 3
   },
   "file_extension": ".py",
   "mimetype": "text/x-python",
   "name": "python",
   "nbconvert_exporter": "python",
   "pygments_lexer": "ipython3",
   "version": "3.12.0"
  }
 },
 "nbformat": 4,
 "nbformat_minor": 2
}
