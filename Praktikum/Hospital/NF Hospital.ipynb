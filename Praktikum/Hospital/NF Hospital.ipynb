{
 "cells": [
  {
   "cell_type": "code",
   "execution_count": 33,
   "metadata": {},
   "outputs": [],
   "source": [
    "#HOSPITAL\n",
    "#Import\n",
    "import pandas as pd\n",
    "import numpy as np"
   ]
  },
  {
   "cell_type": "code",
   "execution_count": 34,
   "metadata": {},
   "outputs": [
    {
     "name": "stdout",
     "output_type": "stream",
     "text": [
      "DATA INVENTORY\n",
      "     Patient_ID  Age  Gender  Smoking_Status  Asthma_Diagnosis  Medication  \\\n",
      "0             1   26  Female             0.0               1.0         1.0   \n",
      "1             2   52  Female             2.0               0.0         0.0   \n",
      "2             3   56  Female             2.0               1.0         1.0   \n",
      "3             4   55    Male             1.0               1.0         2.0   \n",
      "4             5   43  Female             1.0               0.0         0.0   \n",
      "..          ...  ...     ...             ...               ...         ...   \n",
      "295         296   25  Female             NaN               0.0         NaN   \n",
      "296         297   20    Male             2.0               0.0         0.0   \n",
      "297         298   25  Female             0.0               0.0         0.0   \n",
      "298         299   18    Male             2.0               0.0         0.0   \n",
      "299         300   59  Female             1.0               0.0         0.0   \n",
      "\n",
      "     Peak_Flow     Smoking Status Asthma_Diagnosis.1             Medication.1  \n",
      "0          175       0= 0n Smoker              0= No                    0=Noe  \n",
      "1          156  1= Current-Smoker               1= 0                1=Inhaler  \n",
      "2          236       2= Ex-Smoker                NaN  2=Controller Medication  \n",
      "3          378                NaN                NaN                      NaN  \n",
      "4          159                NaN                NaN                      NaN  \n",
      "..         ...                ...                ...                      ...  \n",
      "295        283                NaN                NaN                      NaN  \n",
      "296        202                NaN                NaN                      NaN  \n",
      "297        208                NaN                NaN                      NaN  \n",
      "298        175                NaN                NaN                      NaN  \n",
      "299        332                NaN                NaN                      NaN  \n",
      "\n",
      "[300 rows x 10 columns]\n"
     ]
    }
   ],
   "source": [
    "# Read the Excel file into a pandas DataFrame\n",
    "filedata = r\"C:\\\\Users\\\\umay2\\\\Desktop\\\\SUFFER\\\\UNIV\\\\SEMESTER 2\\\\Basis Data\\\\PRAKTIKUM BASDAT\\\\Tugas 1\\\\Hospital\\\\asthma_excelvr_0nf.xlsx\"\n",
    "readexcel = pd.read_excel(filedata)\n",
    "df= pd.DataFrame(readexcel)\n",
    "print(\"DATA INVENTORY\")\n",
    "print(df)"
   ]
  },
  {
   "cell_type": "code",
   "execution_count": 35,
   "metadata": {},
   "outputs": [
    {
     "name": "stdout",
     "output_type": "stream",
     "text": [
      "Patient_ID              0\n",
      "Age                     0\n",
      "Gender                  0\n",
      "Smoking_Status         17\n",
      "Asthma_Diagnosis       16\n",
      "Medication             14\n",
      "Peak_Flow               0\n",
      "Smoking Status        297\n",
      "Asthma_Diagnosis.1    298\n",
      "Medication.1          297\n",
      "dtype: int64\n"
     ]
    }
   ],
   "source": [
    "#1NF\n",
    "#Cek bila ada data yang kosong\n",
    "onenf= pd.isnull(df).sum()\n",
    "print(onenf)"
   ]
  },
  {
   "cell_type": "code",
   "execution_count": 36,
   "metadata": {},
   "outputs": [
    {
     "name": "stderr",
     "output_type": "stream",
     "text": [
      "C:\\Users\\umay2\\AppData\\Local\\Temp\\ipykernel_54052\\3468196491.py:4: FutureWarning: Setting an item of incompatible dtype is deprecated and will raise in a future error of pandas. Value 'no info' has dtype incompatible with float64, please explicitly cast to a compatible dtype first.\n",
      "  df.loc[i,'Smoking_Status']=\"no info\"\n",
      "C:\\Users\\umay2\\AppData\\Local\\Temp\\ipykernel_54052\\3468196491.py:8: FutureWarning: Setting an item of incompatible dtype is deprecated and will raise in a future error of pandas. Value 'no info' has dtype incompatible with float64, please explicitly cast to a compatible dtype first.\n",
      "  df.loc[i,'Asthma_Diagnosis']=\"no info\"\n",
      "C:\\Users\\umay2\\AppData\\Local\\Temp\\ipykernel_54052\\3468196491.py:12: FutureWarning: Setting an item of incompatible dtype is deprecated and will raise in a future error of pandas. Value 'no info' has dtype incompatible with float64, please explicitly cast to a compatible dtype first.\n",
      "  df.loc[i,'Medication']=\"no info\"\n"
     ]
    }
   ],
   "source": [
    "#Isi kolum Smoking status dengan No info\n",
    "for i in range(len(df['Smoking_Status'])):\n",
    "    if pd.isnull(df.loc[i, 'Smoking_Status'])==True:\n",
    "        df.loc[i,'Smoking_Status']=\"no info\"\n",
    "#Isi kolum Asthma diagnosis dengan No info\n",
    "for i in range(len(df['Asthma_Diagnosis'])):\n",
    "    if pd.isnull(df.loc[i, 'Asthma_Diagnosis'])==True:\n",
    "        df.loc[i,'Asthma_Diagnosis']=\"no info\"\n",
    "#Isi kolum Medication dengan No info\n",
    "for i in range(len(df['Medication'])):\n",
    "    if pd.isnull(df.loc[i, 'Medication'])==True:\n",
    "        df.loc[i,'Medication']=\"no info\"\n",
    "#transfer hasil 1NF\n",
    "df.to_excel(\"C:\\\\Users\\\\umay2\\\\Desktop\\\\SUFFER\\\\UNIV\\\\SEMESTER 2\\\\Basis Data\\\\PRAKTIKUM BASDAT\\\\Tugas 1\\\\Hospital\\\\asthma_excelvr_1nf.xlsx\")"
   ]
  },
  {
   "cell_type": "code",
   "execution_count": 37,
   "metadata": {},
   "outputs": [
    {
     "name": "stdout",
     "output_type": "stream",
     "text": [
      "BIODATA PASIEN\n",
      "     Patient_ID  Age  Gender Smoking_Status Asthma_Diagnosis\n",
      "0             1   26  Female            0.0              1.0\n",
      "1             2   52  Female            2.0              0.0\n",
      "2             3   56  Female            2.0              1.0\n",
      "3             4   55    Male            1.0              1.0\n",
      "4             5   43  Female            1.0              0.0\n",
      "..          ...  ...     ...            ...              ...\n",
      "295         296   25  Female        no info              0.0\n",
      "296         297   20    Male            2.0              0.0\n",
      "297         298   25  Female            0.0              0.0\n",
      "298         299   18    Male            2.0              0.0\n",
      "299         300   59  Female            1.0              0.0\n",
      "\n",
      "[300 rows x 5 columns]\n",
      "DIGANOSA PASIEN\n",
      "    Asthma_Diagnosis Medication  Peak_Flow\n",
      "0                1.0        1.0        175\n",
      "1                0.0        0.0        156\n",
      "2                1.0        1.0        236\n",
      "3                1.0        2.0        378\n",
      "4                0.0        0.0        159\n",
      "..               ...        ...        ...\n",
      "295              0.0    no info        283\n",
      "296              0.0        0.0        202\n",
      "297              0.0        0.0        208\n",
      "298              0.0        0.0        175\n",
      "299              0.0        0.0        332\n",
      "\n",
      "[300 rows x 3 columns]\n"
     ]
    }
   ],
   "source": [
    "#2NF\n",
    "#Hilagkan partial dependency \n",
    "#membuat 2 kelompok kolum terdiri dari ID dan asthma\n",
    "id = df[['Patient_ID', 'Age', 'Gender','Smoking_Status', 'Asthma_Diagnosis']]\n",
    "diagnosis= df[['Asthma_Diagnosis', 'Medication','Peak_Flow']]\n",
    "#hasil 2nf\n",
    "print(\"BIODATA PASIEN\")\n",
    "print(id)\n",
    "print(\"DIGANOSA PASIEN\")\n",
    "print(diagnosis)\n",
    "#transfer hasil 2nf\n",
    "with pd.ExcelWriter(\"C:\\\\Users\\\\umay2\\\\Desktop\\\\SUFFER\\\\UNIV\\\\SEMESTER 2\\\\Basis Data\\\\PRAKTIKUM BASDAT\\\\Tugas 1\\\\Hospital\\\\asthma_excelvr_2nf.xlsx\") as writer:\n",
    "    id.to_excel(writer, sheet_name=\"BIODATA PASIEN\")\n",
    "    diagnosis.to_excel(writer, sheet_name=\"DIGANOSA PASIEN\")\n"
   ]
  },
  {
   "cell_type": "code",
   "execution_count": 39,
   "metadata": {},
   "outputs": [
    {
     "name": "stdout",
     "output_type": "stream",
     "text": [
      "STATUS PASIEN\n",
      "     Patient_ID Asthma_Diagnosis\n",
      "0             1              1.0\n",
      "1             2              0.0\n",
      "2             3              1.0\n",
      "3             4              1.0\n",
      "4             5              0.0\n",
      "..          ...              ...\n",
      "295         296              0.0\n",
      "296         297              0.0\n",
      "297         298              0.0\n",
      "298         299              0.0\n",
      "299         300              0.0\n",
      "\n",
      "[300 rows x 2 columns]\n",
      "BIODATA PASIEN\n",
      "     Patient_ID  Age  Gender Smoking_Status\n",
      "0             1   26  Female            0.0\n",
      "1             2   52  Female            2.0\n",
      "2             3   56  Female            2.0\n",
      "3             4   55    Male            1.0\n",
      "4             5   43  Female            1.0\n",
      "..          ...  ...     ...            ...\n",
      "295         296   25  Female        no info\n",
      "296         297   20    Male            2.0\n",
      "297         298   25  Female            0.0\n",
      "298         299   18    Male            2.0\n",
      "299         300   59  Female            1.0\n",
      "\n",
      "[300 rows x 4 columns]\n",
      "DIGANOSA PASIEN\n",
      "    Asthma_Diagnosis Medication  Peak_Flow\n",
      "0                1.0        1.0        175\n",
      "1                0.0        0.0        156\n",
      "2                1.0        1.0        236\n",
      "3                1.0        2.0        378\n",
      "4                0.0        0.0        159\n",
      "..               ...        ...        ...\n",
      "295              0.0    no info        283\n",
      "296              0.0        0.0        202\n",
      "297              0.0        0.0        208\n",
      "298              0.0        0.0        175\n",
      "299              0.0        0.0        332\n",
      "\n",
      "[300 rows x 3 columns]\n"
     ]
    }
   ],
   "source": [
    "#3NF\n",
    "#Hilangkan transitive dependency\n",
    "#membagi data menjadi 3 kelompok\n",
    "status = df[['Patient_ID','Asthma_Diagnosis']]\n",
    "id= df[['Patient_ID', 'Age', 'Gender','Smoking_Status']]\n",
    "diagnosis= df[['Asthma_Diagnosis', 'Medication','Peak_Flow']]\n",
    "#hasil 3nf\n",
    "print(\"STATUS PASIEN\")\n",
    "print(status)\n",
    "print(\"BIODATA PASIEN\")\n",
    "print(id)\n",
    "print(\"DIGANOSA PASIEN\")\n",
    "print(diagnosis)\n",
    "#transfer hasil 3nf\n",
    "with pd.ExcelWriter(\"C:\\\\Users\\\\umay2\\\\Desktop\\\\SUFFER\\\\UNIV\\\\SEMESTER 2\\\\Basis Data\\\\PRAKTIKUM BASDAT\\\\Tugas 1\\\\Hospital\\\\asthma_excelvr_3nf.xlsx\") as writer:\n",
    "    status.to_excel(writer, sheet_name=\"STATUS PASIEN\")\n",
    "    id.to_excel(writer, sheet_name=\"BIODATA PASIEN\")\n",
    "    diagnosis.to_excel(writer, sheet_name=\"DIGANOSA PASIEN\")"
   ]
  },
  {
   "cell_type": "code",
   "execution_count": null,
   "metadata": {},
   "outputs": [],
   "source": []
  }
 ],
 "metadata": {
  "kernelspec": {
   "display_name": "Python 3",
   "language": "python",
   "name": "python3"
  },
  "language_info": {
   "codemirror_mode": {
    "name": "ipython",
    "version": 3
   },
   "file_extension": ".py",
   "mimetype": "text/x-python",
   "name": "python",
   "nbconvert_exporter": "python",
   "pygments_lexer": "ipython3",
   "version": "3.12.0"
  }
 },
 "nbformat": 4,
 "nbformat_minor": 2
}
