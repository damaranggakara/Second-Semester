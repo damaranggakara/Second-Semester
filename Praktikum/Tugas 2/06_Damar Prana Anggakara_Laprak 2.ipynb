{
 "cells": [
  {
   "cell_type": "code",
   "execution_count": 1,
   "metadata": {},
   "outputs": [],
   "source": [
    "#UAP STRUKTUR DATA\n",
    "#NAMA: Damar Prana Anggakara\n",
    "#NIM: 235091100111007\n",
    "#N0. ABSEN: 06"
   ]
  },
  {
   "cell_type": "code",
   "execution_count": 2,
   "metadata": {},
   "outputs": [
    {
     "name": "stdout",
     "output_type": "stream",
     "text": [
      "Traversal MST:\n",
      "0 -- 4 == 1\n",
      "4 -- 6 == 1\n",
      "4 -- 3 == 4\n",
      "3 -- 5 == 6\n",
      "5 -- 9 == 7\n",
      "9 -- 8 == 5\n",
      "0 -- 1 == 11\n",
      "1 -- 2 == 5\n",
      "2 -- 7 == 7\n",
      "\n",
      "Arah tercepat dari node 0 sampe 9:\n",
      "0 -> 4 -> 3 -> 5 -> 9\n"
     ]
    }
   ],
   "source": [
    "#SOAL NO 1 MST ALGORITMA PRIM\n",
    "#import\n",
    "import heapq\n",
    "\n",
    "#pembuatan graph\n",
    "class Graph:\n",
    "    def __init__(self, vertices):\n",
    "        self.V = vertices\n",
    "        self.graph = [[] for _ in range(vertices)]\n",
    "    \n",
    "    #penambahan edge ke graph\n",
    "    def add_edge(self, u, v, w):\n",
    "        self.graph[u].append((v, w))\n",
    "        self.graph[v].append((u, w))\n",
    "    \n",
    "    #prim algoritma untuk mst\n",
    "    def prim_mst(self, start_vertex):\n",
    "        mst = []\n",
    "        visited = set()\n",
    "        priority_queue = [(0, start_vertex)]\n",
    "        parent = [-1] * self.V \n",
    "        key = [float('inf')] * self.V \n",
    "        key[start_vertex] = 0\n",
    "\n",
    "        while priority_queue:\n",
    "            weight, vertex = heapq.heappop(priority_queue)\n",
    "            if vertex in visited:\n",
    "                continue\n",
    "            visited.add(vertex)\n",
    "            if parent[vertex] != -1:\n",
    "                mst.append((parent[vertex], vertex, weight))\n",
    "\n",
    "            for neighbor, neighbor_weight in self.graph[vertex]:\n",
    "                if neighbor not in visited and neighbor_weight < key[neighbor]:\n",
    "                    key[neighbor] = neighbor_weight\n",
    "                    heapq.heappush(priority_queue, (neighbor_weight, neighbor))\n",
    "                    parent[neighbor] = vertex\n",
    "\n",
    "        return mst, parent\n",
    "\n",
    "    #mencari jarak terdekat antara dua node menggunakan mst\n",
    "    def find_path(self, parent, target_vertex):\n",
    "        path = []\n",
    "        while target_vertex != -1:\n",
    "            path.append(target_vertex)\n",
    "            target_vertex = parent[target_vertex]\n",
    "        path.reverse()\n",
    "        return path\n",
    "\n",
    "#isi graph\n",
    "g = Graph(14)\n",
    "g.add_edge(0, 1, 11)\n",
    "g.add_edge(0, 4, 1)\n",
    "g.add_edge(1, 3, 14)\n",
    "g.add_edge(3, 4, 4)\n",
    "g.add_edge(4, 6, 1)\n",
    "g.add_edge(3, 9, 14)\n",
    "g.add_edge(3, 5, 6)\n",
    "g.add_edge(1, 2, 5)\n",
    "g.add_edge(6, 9, 15)\n",
    "g.add_edge(5, 9, 7)\n",
    "g.add_edge(8, 9, 5)\n",
    "g.add_edge(2, 5, 14)\n",
    "g.add_edge(2, 7, 7)\n",
    "g.add_edge(7, 8, 13)\n",
    "\n",
    "#mst dari vertex 0\n",
    "mst, parent = g.prim_mst(0)\n",
    "\n",
    "#display edge di mst\n",
    "print(\"Traversal MST:\")\n",
    "for u, v, w in mst:\n",
    "    print(f\"{u} -- {v} == {w}\")\n",
    "\n",
    "#target node pertama dan terakhir\n",
    "start_vertex = 0\n",
    "target_vertex = 9\n",
    "\n",
    "#menggunakan mst untuk mencari jarak terdekat antara node pertama dan terakhir\n",
    "path = g.find_path(parent, target_vertex)\n",
    "print(f\"\\nArah tercepat dari node {start_vertex} sampe {target_vertex}:\")\n",
    "print(\" -> \".join(map(str, path)))"
   ]
  },
  {
   "cell_type": "code",
   "execution_count": 3,
   "metadata": {},
   "outputs": [
    {
     "name": "stdout",
     "output_type": "stream",
     "text": [
      "Original list: [5, 1, 15, 13, 11, 14, 12, 3, 7, 2, 6, 8, 9, 4, 10]\n",
      "Sorted list: [1, 2, 3, 4, 5, 6, 7, 8, 9, 10, 11, 12, 13, 14, 15]\n"
     ]
    }
   ],
   "source": [
    "#SOAL NO 2 QUICK SORT ELEMEN PERTAMA\n",
    "#definisikan quick sort\n",
    "def quick_sort(lst):\n",
    "    if len(lst) <= 1:\n",
    "        return lst\n",
    "\n",
    "    #pemilihan pivot elemen pertama\n",
    "    pivot = lst[0]\n",
    "\n",
    "    #membagi kumpulan angka menjadi 3 kelompok\n",
    "    left = [x for x in lst[1:] if x < pivot]\n",
    "    middle = [x for x in lst if x == pivot]\n",
    "    right = [x for x in lst[1:] if x > pivot]\n",
    "\n",
    "    #mengurutkan sublist secara berulang sesuai pivot\n",
    "    return quick_sort(left) + middle + quick_sort(right)\n",
    "\n",
    "#pemasukan angka dan hasil\n",
    "if __name__ == \"__main__\":\n",
    "    my_list = [5,1,15,13,11,14,12,3,7,2,6,8,9,4,10]\n",
    "    print(\"Original list:\", my_list)\n",
    "\n",
    "    sorted_list = quick_sort(my_list)\n",
    "    print(\"Sorted list:\", sorted_list)\n"
   ]
  }
 ],
 "metadata": {
  "kernelspec": {
   "display_name": "Python 3",
   "language": "python",
   "name": "python3"
  },
  "language_info": {
   "codemirror_mode": {
    "name": "ipython",
    "version": 3
   },
   "file_extension": ".py",
   "mimetype": "text/x-python",
   "name": "python",
   "nbconvert_exporter": "python",
   "pygments_lexer": "ipython3",
   "version": "3.12.0"
  }
 },
 "nbformat": 4,
 "nbformat_minor": 2
}
