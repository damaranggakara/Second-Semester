{
 "cells": [
  {
   "cell_type": "code",
   "execution_count": 1,
   "metadata": {},
   "outputs": [],
   "source": [
    "#EDUCATION\n",
    "#Import\n",
    "import pandas as pd\n",
    "import numpy as np\n",
    "import matplotlib.pyplot as plt"
   ]
  },
  {
   "cell_type": "code",
   "execution_count": 2,
   "metadata": {},
   "outputs": [
    {
     "name": "stdout",
     "output_type": "stream",
     "text": [
      "original dataframe\n",
      "       Id  Student_Age     Sex High_School_Type Scholarship Additional_Work  \\\n",
      "0    5001           21    Male            Other         50%             Yes   \n",
      "1    5002           20    Male            Other         50%             Yes   \n",
      "2    5003           21    Male            State         50%              No   \n",
      "3    5004           18  Female          Private         50%             Yes   \n",
      "4    5005           22    Male          Private         50%              No   \n",
      "..    ...          ...     ...              ...         ...             ...   \n",
      "140  5141           22  Female            State         50%             Yes   \n",
      "141  5142           18  Female            State         75%              No   \n",
      "142  5143           18  Female          Private         75%              No   \n",
      "143  5144           22  Female            State         75%             Yes   \n",
      "144  5145           18  Female          Private        100%              No   \n",
      "\n",
      "    Sports_activity Transportation Report_Card_ID  Weekly_Study_Hours  \\\n",
      "0                No        Private           RC01                 0.0   \n",
      "1                No        Private           RC02                 0.0   \n",
      "2                No        Private           RC03                 2.0   \n",
      "3                No            Bus           RC04                 2.0   \n",
      "4                No            Bus           RC05                12.0   \n",
      "..              ...            ...            ...                 ...   \n",
      "140             Yes        Private          RC141                 0.0   \n",
      "141              No        Private          RC142                 0.0   \n",
      "142              No        Private          RC143                 0.0   \n",
      "143             Yes            Bus          RC144                 NaN   \n",
      "144              No        Private          RC145                12.0   \n",
      "\n",
      "    Attendance Reading Notes Listening_in_Class Project_work Grade  \n",
      "0       Always     Yes   Yes                 No           No    AA  \n",
      "1       Always     Yes    No                Yes          Yes    AA  \n",
      "2        Never      No    No                 No          Yes    AA  \n",
      "3       Always      No   Yes                 No           No    AA  \n",
      "4       Always     Yes    No                Yes          Yes    AA  \n",
      "..         ...     ...   ...                ...          ...   ...  \n",
      "140     Always      No   Yes                 No          Yes    CC  \n",
      "141      Never      No   Yes                Yes           No    CC  \n",
      "142     Always     Yes    No                 No           No    AA  \n",
      "143  Sometimes      No   Yes                 No          Yes    CB  \n",
      "144     Always     Yes    No                Yes           No    BB  \n",
      "\n",
      "[145 rows x 16 columns]\n"
     ]
    }
   ],
   "source": [
    "## original dataframe\n",
    "print(\"original dataframe\")\n",
    "filedata = r\"C:\\Users\\umay2\\Desktop\\SUFFER\\UNIV\\SEMESTER 2\\Basis Data\\PRAKTIKUM BASDAT\\UTP\\student_sq.csv\"\n",
    "df = pd.read_csv(filedata, sep= \";\")\n",
    "print(df)"
   ]
  },
  {
   "cell_type": "code",
   "execution_count": 3,
   "metadata": {},
   "outputs": [
    {
     "name": "stdout",
     "output_type": "stream",
     "text": [
      "       Id  Student_Age     Sex High_School_Type Scholarship Additional_Work  \\\n",
      "0    5001           21    Male            Other         50%             Yes   \n",
      "1    5002           20    Male            Other         50%             Yes   \n",
      "2    5003           21    Male            State         50%              No   \n",
      "3    5004           18  Female          Private         50%             Yes   \n",
      "4    5005           22    Male          Private         50%              No   \n",
      "..    ...          ...     ...              ...         ...             ...   \n",
      "140  5141           22  Female            State         50%             Yes   \n",
      "141  5142           18  Female            State         75%              No   \n",
      "142  5143           18  Female          Private         75%              No   \n",
      "143  5144           22  Female            State         75%             Yes   \n",
      "144  5145           18  Female          Private        100%              No   \n",
      "\n",
      "    Sports_activity Transportation Report_Card_ID  Weekly_Study_Hours  \\\n",
      "0                No        Private           RC01                 0.0   \n",
      "1                No        Private           RC02                 0.0   \n",
      "2                No        Private           RC03                 2.0   \n",
      "3                No            Bus           RC04                 2.0   \n",
      "4                No            Bus           RC05                12.0   \n",
      "..              ...            ...            ...                 ...   \n",
      "140             Yes        Private          RC141                 0.0   \n",
      "141              No        Private          RC142                 0.0   \n",
      "142              No        Private          RC143                 0.0   \n",
      "143             Yes            Bus          RC144                 NaN   \n",
      "144              No        Private          RC145                12.0   \n",
      "\n",
      "    Attendance Reading Notes Listening_in_Class Project_work Grade  \\\n",
      "0       Always     Yes   Yes                 No           No    AA   \n",
      "1       Always     Yes    No                Yes          Yes    AA   \n",
      "2        Never      No    No                 No          Yes    AA   \n",
      "3       Always      No   Yes                 No           No    AA   \n",
      "4       Always     Yes    No                Yes          Yes    AA   \n",
      "..         ...     ...   ...                ...          ...   ...   \n",
      "140     Always      No   Yes                 No          Yes    CC   \n",
      "141      Never      No   Yes                Yes           No    CC   \n",
      "142     Always     Yes    No                 No           No    AA   \n",
      "143  Sometimes      No   Yes                 No          Yes    CB   \n",
      "144     Always     Yes    No                Yes           No    BB   \n",
      "\n",
      "     Translated_Column  Translated_Grades  \n",
      "0                 10.0               10.0  \n",
      "1                 10.0               10.0  \n",
      "2                 10.0               10.0  \n",
      "3                 10.0               10.0  \n",
      "4                 10.0               10.0  \n",
      "..                 ...                ...  \n",
      "140                5.0                5.0  \n",
      "141                5.0                5.0  \n",
      "142               10.0               10.0  \n",
      "143                6.0                6.0  \n",
      "144                8.0                8.0  \n",
      "\n",
      "[145 rows x 18 columns]\n"
     ]
    }
   ],
   "source": [
    "#membuat instruksi translasi\n",
    "translation_dict = {'AA': 10, 'AB': 9, 'BB': 8, 'BC': 7, 'CB': 6, 'CC': 5, 'DC': 4, 'DD': 3, 'FD': 2, 'FF': 1}\n",
    "\n",
    "# menambah collum\n",
    "df['Translated_Column'] = df['Grade'].map(translation_dict)\n",
    "\n",
    "# menambah collum\n",
    "df_with_translation = df.assign(Translated_Grades=df['Grade'].map(translation_dict))\n",
    "\n",
    "# display data frame dengan translasi\n",
    "print(df_with_translation)"
   ]
  },
  {
   "cell_type": "code",
   "execution_count": 4,
   "metadata": {},
   "outputs": [
    {
     "name": "stdout",
     "output_type": "stream",
     "text": [
      "       Id  Student_Age     Sex High_School_Type Scholarship Additional_Work  \\\n",
      "0    5001           21    Male            Other         50%             Yes   \n",
      "1    5002           20    Male            Other         50%             Yes   \n",
      "2    5003           21    Male            State         50%              No   \n",
      "3    5004           18  Female          Private         50%             Yes   \n",
      "4    5005           22    Male          Private         50%              No   \n",
      "..    ...          ...     ...              ...         ...             ...   \n",
      "140  5141           22  Female            State         50%             Yes   \n",
      "141  5142           18  Female            State         75%              No   \n",
      "142  5143           18  Female          Private         75%              No   \n",
      "143  5144           22  Female            State         75%             Yes   \n",
      "144  5145           18  Female          Private        100%              No   \n",
      "\n",
      "    Sports_activity Transportation Report_Card_ID  Weekly_Study_Hours  \\\n",
      "0                No        Private           RC01                 0.0   \n",
      "1                No        Private           RC02                 0.0   \n",
      "2                No        Private           RC03                 2.0   \n",
      "3                No            Bus           RC04                 2.0   \n",
      "4                No            Bus           RC05                12.0   \n",
      "..              ...            ...            ...                 ...   \n",
      "140             Yes        Private          RC141                 0.0   \n",
      "141              No        Private          RC142                 0.0   \n",
      "142              No        Private          RC143                 0.0   \n",
      "143             Yes            Bus          RC144                 NaN   \n",
      "144              No        Private          RC145                12.0   \n",
      "\n",
      "    Attendance Reading Notes Listening_in_Class Project_work Grade  \\\n",
      "0       Always     Yes   Yes                 No           No    AA   \n",
      "1       Always     Yes    No                Yes          Yes    AA   \n",
      "2        Never      No    No                 No          Yes    AA   \n",
      "3       Always      No   Yes                 No           No    AA   \n",
      "4       Always     Yes    No                Yes          Yes    AA   \n",
      "..         ...     ...   ...                ...          ...   ...   \n",
      "140     Always      No   Yes                 No          Yes    CC   \n",
      "141      Never      No   Yes                Yes           No    CC   \n",
      "142     Always     Yes    No                 No           No    AA   \n",
      "143  Sometimes      No   Yes                 No          Yes    CB   \n",
      "144     Always     Yes    No                Yes           No    BB   \n",
      "\n",
      "     Translated_Column  decimal_column  \n",
      "0                 10.0            0.50  \n",
      "1                 10.0            0.50  \n",
      "2                 10.0            0.50  \n",
      "3                 10.0            0.50  \n",
      "4                 10.0            0.50  \n",
      "..                 ...             ...  \n",
      "140                5.0            0.50  \n",
      "141                5.0            0.75  \n",
      "142               10.0            0.75  \n",
      "143                6.0            0.75  \n",
      "144                8.0            1.00  \n",
      "\n",
      "[145 rows x 18 columns]\n"
     ]
    }
   ],
   "source": [
    "#mengubah persentase scholarship menjadi decimal agar dapat di interpretasi\n",
    "df[\"decimal_column\"] = df[\"Scholarship\"].str.rstrip('%').astype('float') / 100\n",
    "print(df)"
   ]
  },
  {
   "cell_type": "code",
   "execution_count": 5,
   "metadata": {},
   "outputs": [
    {
     "name": "stdout",
     "output_type": "stream",
     "text": [
      "\n",
      "deskripsi dataframe numerik:\n",
      "                Id  Student_Age  Weekly_Study_Hours  Translated_Column  \\\n",
      "count   145.000000   145.000000          137.000000         121.000000   \n",
      "mean   5073.000000    19.682759            2.277372           6.396694   \n",
      "std      42.001984     1.992010            4.188096           2.953753   \n",
      "min    5001.000000    18.000000            0.000000           1.000000   \n",
      "25%    5037.000000    18.000000            0.000000           4.000000   \n",
      "50%    5073.000000    19.000000            0.000000           6.000000   \n",
      "75%    5109.000000    21.000000            2.000000          10.000000   \n",
      "max    5145.000000    26.000000           12.000000          10.000000   \n",
      "\n",
      "       decimal_column  \n",
      "count      145.000000  \n",
      "mean         0.646552  \n",
      "std          0.194513  \n",
      "min          0.250000  \n",
      "25%          0.500000  \n",
      "50%          0.500000  \n",
      "75%          0.750000  \n",
      "max          1.000000  \n"
     ]
    }
   ],
   "source": [
    "## deskripsi dataframe numerik\n",
    "print('')\n",
    "print(\"deskripsi dataframe numerik:\")\n",
    "maindata = df.describe()\n",
    "print(maindata)"
   ]
  },
  {
   "cell_type": "code",
   "execution_count": 6,
   "metadata": {},
   "outputs": [
    {
     "data": {
      "text/html": [
       "<div>\n",
       "<style scoped>\n",
       "    .dataframe tbody tr th:only-of-type {\n",
       "        vertical-align: middle;\n",
       "    }\n",
       "\n",
       "    .dataframe tbody tr th {\n",
       "        vertical-align: top;\n",
       "    }\n",
       "\n",
       "    .dataframe thead th {\n",
       "        text-align: right;\n",
       "    }\n",
       "</style>\n",
       "<table border=\"1\" class=\"dataframe\">\n",
       "  <thead>\n",
       "    <tr style=\"text-align: right;\">\n",
       "      <th></th>\n",
       "      <th>Id</th>\n",
       "      <th>Report_Card_ID</th>\n",
       "      <th>Grade</th>\n",
       "      <th>Translated_Column</th>\n",
       "    </tr>\n",
       "  </thead>\n",
       "  <tbody>\n",
       "    <tr>\n",
       "      <th>0</th>\n",
       "      <td>5001</td>\n",
       "      <td>RC01</td>\n",
       "      <td>AA</td>\n",
       "      <td>10.0</td>\n",
       "    </tr>\n",
       "    <tr>\n",
       "      <th>1</th>\n",
       "      <td>5002</td>\n",
       "      <td>RC02</td>\n",
       "      <td>AA</td>\n",
       "      <td>10.0</td>\n",
       "    </tr>\n",
       "    <tr>\n",
       "      <th>2</th>\n",
       "      <td>5003</td>\n",
       "      <td>RC03</td>\n",
       "      <td>AA</td>\n",
       "      <td>10.0</td>\n",
       "    </tr>\n",
       "    <tr>\n",
       "      <th>3</th>\n",
       "      <td>5004</td>\n",
       "      <td>RC04</td>\n",
       "      <td>AA</td>\n",
       "      <td>10.0</td>\n",
       "    </tr>\n",
       "  </tbody>\n",
       "</table>\n",
       "</div>"
      ],
      "text/plain": [
       "     Id Report_Card_ID Grade  Translated_Column\n",
       "0  5001           RC01    AA               10.0\n",
       "1  5002           RC02    AA               10.0\n",
       "2  5003           RC03    AA               10.0\n",
       "3  5004           RC04    AA               10.0"
      ]
     },
     "execution_count": 6,
     "metadata": {},
     "output_type": "execute_result"
    }
   ],
   "source": [
    "#collum data utama\n",
    "datum = ['Id', 'Report_Card_ID','Grade', 'Translated_Column']\n",
    "#ubah menjadi float\n",
    "x = df[datum]\n",
    "x.head(4)"
   ]
  },
  {
   "cell_type": "code",
   "execution_count": 7,
   "metadata": {},
   "outputs": [
    {
     "data": {
      "text/html": [
       "<div>\n",
       "<style scoped>\n",
       "    .dataframe tbody tr th:only-of-type {\n",
       "        vertical-align: middle;\n",
       "    }\n",
       "\n",
       "    .dataframe tbody tr th {\n",
       "        vertical-align: top;\n",
       "    }\n",
       "\n",
       "    .dataframe thead th {\n",
       "        text-align: right;\n",
       "    }\n",
       "</style>\n",
       "<table border=\"1\" class=\"dataframe\">\n",
       "  <thead>\n",
       "    <tr style=\"text-align: right;\">\n",
       "      <th></th>\n",
       "      <th>Id</th>\n",
       "      <th>Student_Age</th>\n",
       "      <th>Sex</th>\n",
       "      <th>High_School_Type</th>\n",
       "      <th>Scholarship</th>\n",
       "      <th>Additional_Work</th>\n",
       "      <th>Sports_activity</th>\n",
       "      <th>Transportation</th>\n",
       "    </tr>\n",
       "  </thead>\n",
       "  <tbody>\n",
       "    <tr>\n",
       "      <th>0</th>\n",
       "      <td>5001</td>\n",
       "      <td>21</td>\n",
       "      <td>Male</td>\n",
       "      <td>Other</td>\n",
       "      <td>50%</td>\n",
       "      <td>Yes</td>\n",
       "      <td>No</td>\n",
       "      <td>Private</td>\n",
       "    </tr>\n",
       "    <tr>\n",
       "      <th>1</th>\n",
       "      <td>5002</td>\n",
       "      <td>20</td>\n",
       "      <td>Male</td>\n",
       "      <td>Other</td>\n",
       "      <td>50%</td>\n",
       "      <td>Yes</td>\n",
       "      <td>No</td>\n",
       "      <td>Private</td>\n",
       "    </tr>\n",
       "    <tr>\n",
       "      <th>2</th>\n",
       "      <td>5003</td>\n",
       "      <td>21</td>\n",
       "      <td>Male</td>\n",
       "      <td>State</td>\n",
       "      <td>50%</td>\n",
       "      <td>No</td>\n",
       "      <td>No</td>\n",
       "      <td>Private</td>\n",
       "    </tr>\n",
       "    <tr>\n",
       "      <th>3</th>\n",
       "      <td>5004</td>\n",
       "      <td>18</td>\n",
       "      <td>Female</td>\n",
       "      <td>Private</td>\n",
       "      <td>50%</td>\n",
       "      <td>Yes</td>\n",
       "      <td>No</td>\n",
       "      <td>Bus</td>\n",
       "    </tr>\n",
       "  </tbody>\n",
       "</table>\n",
       "</div>"
      ],
      "text/plain": [
       "     Id  Student_Age     Sex High_School_Type Scholarship Additional_Work  \\\n",
       "0  5001           21    Male            Other         50%             Yes   \n",
       "1  5002           20    Male            Other         50%             Yes   \n",
       "2  5003           21    Male            State         50%              No   \n",
       "3  5004           18  Female          Private         50%             Yes   \n",
       "\n",
       "  Sports_activity Transportation  \n",
       "0              No        Private  \n",
       "1              No        Private  \n",
       "2              No        Private  \n",
       "3              No            Bus  "
      ]
     },
     "execution_count": 7,
     "metadata": {},
     "output_type": "execute_result"
    }
   ],
   "source": [
    "#Biodata\n",
    "biodata = ['Id', 'Student_Age','Sex', 'High_School_Type', 'Scholarship', 'Additional_Work', 'Sports_activity', 'Transportation']\n",
    "#ubah menjadi float\n",
    "y = df[biodata]\n",
    "y.head(4)"
   ]
  },
  {
   "cell_type": "code",
   "execution_count": 9,
   "metadata": {},
   "outputs": [
    {
     "data": {
      "text/plain": [
       "Text(0.5, 1.0, 'Weekly_Study_Hours dan Translated_Column')"
      ]
     },
     "execution_count": 9,
     "metadata": {},
     "output_type": "execute_result"
    },
    {
     "data": {
      "image/png": "[encoded data removed]",
      "text/plain": [
       "<Figure size 640x480 with 1 Axes>"
      ]
     },
     "metadata": {},
     "output_type": "display_data"
    }
   ],
   "source": [
    "#membuat korelasi grade denga jumlah waktu belajar\n",
    "plt.scatter(df[['Weekly_Study_Hours']], df[[\"Translated_Column\"]])\n",
    "plt.xlabel('Weekly_Study_Hours')\n",
    "plt.ylabel('Translated_Column')\n",
    "plt.title(\"Weekly_Study_Hours dan Translated_Column\")"
   ]
  },
  {
   "cell_type": "code",
   "execution_count": 10,
   "metadata": {},
   "outputs": [
    {
     "data": {
      "text/plain": [
       "Text(0.5, 1.0, 'decimal_column dan Translated_Column')"
      ]
     },
     "execution_count": 10,
     "metadata": {},
     "output_type": "execute_result"
    },
    {
     "data": {
      "image/png": "[encoded data removed]",
      "text/plain": [
       "<Figure size 640x480 with 1 Axes>"
      ]
     },
     "metadata": {},
     "output_type": "display_data"
    }
   ],
   "source": [
    "#membuat korelasi grade dengan scholarship\n",
    "plt.scatter(df[['decimal_column']], df[[\"Translated_Column\"]])\n",
    "plt.xlabel('decimal_column')\n",
    "plt.ylabel('Translated_Column')\n",
    "plt.title(\"decimal_column dan Translated_Column\")"
   ]
  },
  {
   "cell_type": "code",
   "execution_count": 11,
   "metadata": {},
   "outputs": [
    {
     "data": {
      "text/plain": [
       "Text(0.5, 1.0, 'decimal_column dan Weekly_Study_Hours')"
      ]
     },
     "execution_count": 11,
     "metadata": {},
     "output_type": "execute_result"
    },
    {
     "data": {
      "image/png": "[encoded data removed]",
      "text/plain": [
       "<Figure size 640x480 with 1 Axes>"
      ]
     },
     "metadata": {},
     "output_type": "display_data"
    }
   ],
   "source": [
    "#membuat korelasi scholarship dengan study hours\n",
    "plt.scatter(df[['decimal_column']], df[[\"Weekly_Study_Hours\"]])\n",
    "plt.xlabel('decimal_column')\n",
    "plt.ylabel('Weekly_Study_Hours')\n",
    "plt.title(\"decimal_column dan Weekly_Study_Hours\")"
   ]
  },
  {
   "cell_type": "code",
   "execution_count": null,
   "metadata": {},
   "outputs": [],
   "source": []
  }
 ],
 "metadata": {
  "kernelspec": {
   "display_name": "Python 3",
   "language": "python",
   "name": "python3"
  },
  "language_info": {
   "codemirror_mode": {
    "name": "ipython",
    "version": 3
   },
   "file_extension": ".py",
   "mimetype": "text/x-python",
   "name": "python",
   "nbconvert_exporter": "python",
   "pygments_lexer": "ipython3",
   "version": "3.12.0"
  }
 },
 "nbformat": 4,
 "nbformat_minor": 2
}
