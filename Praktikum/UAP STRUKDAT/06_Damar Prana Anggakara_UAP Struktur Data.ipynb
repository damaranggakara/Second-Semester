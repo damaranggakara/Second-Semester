{
 "cells": [
  {
   "cell_type": "code",
   "execution_count": 5,
   "metadata": {},
   "outputs": [],
   "source": [
    "#UAP STRUKTUR DATA\n",
    "#NAMA: Damar Prana Anggakara\n",
    "#NIM: 235091100111007\n",
    "#N0. ABSEN: 06\n",
    "#SOAL: NO. 3"
   ]
  },
  {
   "cell_type": "code",
   "execution_count": 6,
   "metadata": {},
   "outputs": [
    {
     "name": "stdout",
     "output_type": "stream",
     "text": [
      "Original list: [9, 3, 7, 6, 4, 16, 17, 5, 12, 8]\n",
      "Sorted list: [3, 4, 5, 6, 7, 8, 9, 12, 16, 17]\n"
     ]
    }
   ],
   "source": [
    "#heap sort\n",
    "#cari elemen minimum dan pindahkan ia ke awal dan diulang terus menerus\n",
    "#Ubah array menjadi tree (kiri ke kanan)\n",
    "#Pindah angka terbesar ke atas tree menjadi root (max heap)\n",
    "#Lalu pindah angka yang jadi root ke ujung tree agar ia pindah ke posisi terakhir array and then remove it\n",
    "\n",
    "def heapify(lst, n, i):\n",
    "    largest = i  #inisialisasi root terbesar\n",
    "    left = 2 * i + 1  #left child\n",
    "    right = 2 * i + 2  #right child\n",
    "    #mendeteksi left child ada dan lebih besar dari root\n",
    "    if left < n and lst[left] > lst[largest]:\n",
    "        largest = left\n",
    "    #mendeteksi right child ada dan lebih besar dari \"terbesar current\"\n",
    "    if right < n and lst[right] > lst[largest]:\n",
    "        largest = right\n",
    "    #ubah root (tuker)\n",
    "    if largest != i:\n",
    "        lst[i], lst[largest] = lst[largest], lst[i]\n",
    "        #mendeteksi subtree menggunakan hepify\n",
    "        heapify(lst, n, largest)\n",
    "\n",
    "def heap_sort(lst):\n",
    "    n = len(lst)\n",
    "    #membuat max heap, mulai dari non leaf terakhir\n",
    "    for i in range(n // 2 - 1, -1, -1):\n",
    "        heapify(lst, n, i)\n",
    "    #memindahkan elemen satu persatu (tuker)\n",
    "    for i in range(n - 1, 0, -1):\n",
    "        lst[i], lst[0] = lst[0], lst[i]\n",
    "        heapify(lst, i, 0)\n",
    "#input\n",
    "if __name__ == \"__main__\":\n",
    "    my_list = [9,3,7,6,4,16,17,5,12,8]\n",
    "    print(\"Original list:\", my_list)\n",
    "\n",
    "    heap_sort(my_list)\n",
    "    print(\"Sorted list:\", my_list)\n"
   ]
  }
 ],
 "metadata": {
  "kernelspec": {
   "display_name": "Python 3",
   "language": "python",
   "name": "python3"
  },
  "language_info": {
   "codemirror_mode": {
    "name": "ipython",
    "version": 3
   },
   "file_extension": ".py",
   "mimetype": "text/x-python",
   "name": "python",
   "nbconvert_exporter": "python",
   "pygments_lexer": "ipython3",
   "version": "3.12.0"
  }
 },
 "nbformat": 4,
 "nbformat_minor": 2
}
