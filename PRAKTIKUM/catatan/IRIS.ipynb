{
 "cells": [
  {
   "cell_type": "code",
   "execution_count": 2,
   "metadata": {},
   "outputs": [],
   "source": [
    "#imports\n",
    "import pandas as pd\n",
    "from sklearn.model_selection import train_test_split\n",
    "from sklearn.preprocessing import StandardScaler\n",
    "from sklearn.linear_model import LogisticRegression\n",
    "from sklearn.metrics import accuracy_score, confusion_matrix"
   ]
  },
  {
   "cell_type": "code",
   "execution_count": 3,
   "metadata": {},
   "outputs": [
    {
     "name": "stdout",
     "output_type": "stream",
     "text": [
      "     sepal_length  sepal_width  petal_length  petal_width    species\n",
      "0             5.1          3.5           1.4          0.2     setosa\n",
      "1             4.9          3.0           1.4          0.2     setosa\n",
      "2             4.7          3.2           1.3          0.2     setosa\n",
      "3             4.6          3.1           1.5          0.2     setosa\n",
      "4             5.0          3.6           1.4          0.2     setosa\n",
      "..            ...          ...           ...          ...        ...\n",
      "145           6.7          3.0           5.2          2.3  virginica\n",
      "146           6.3          2.5           5.0          1.9  virginica\n",
      "147           6.5          3.0           5.2          2.0  virginica\n",
      "148           6.2          3.4           5.4          2.3  virginica\n",
      "149           5.9          3.0           5.1          1.8  virginica\n",
      "\n",
      "[150 rows x 5 columns]\n"
     ]
    }
   ],
   "source": [
    "#import data\n",
    "iris_df = pd.read_csv('https://raw.githubusercontent.com/uiuc-cse/data-fa14/gh-pages/data/iris.csv')\n",
    "print(iris_df)"
   ]
  },
  {
   "cell_type": "code",
   "execution_count": 4,
   "metadata": {},
   "outputs": [
    {
     "name": "stdout",
     "output_type": "stream",
     "text": [
      "     sepal_length  sepal_width  petal_length  petal_width    species\n",
      "0             5.1          3.5           1.4          0.2     setosa\n",
      "1             4.9          3.0           1.4          0.2     setosa\n",
      "2             4.7          3.2           1.3          0.2     setosa\n",
      "3             4.6          3.1           1.5          0.2     setosa\n",
      "4             5.0          3.6           1.4          0.2     setosa\n",
      "..            ...          ...           ...          ...        ...\n",
      "145           6.7          3.0           5.2          2.3  virginica\n",
      "146           6.3          2.5           5.0          1.9  virginica\n",
      "147           6.5          3.0           5.2          2.0  virginica\n",
      "148           6.2          3.4           5.4          2.3  virginica\n",
      "149           5.9          3.0           5.1          1.8  virginica\n",
      "\n",
      "[150 rows x 5 columns]\n"
     ]
    }
   ],
   "source": [
    "#identifikasi data hilang\n",
    "missing= iris_df.isnull().sum()\\\n",
    "\n",
    "#menghapis baris yang mengandung data hilang\n",
    "data_clean = iris_df.dropna()\n",
    "print(data_clean)"
   ]
  },
  {
   "cell_type": "code",
   "execution_count": 5,
   "metadata": {},
   "outputs": [
    {
     "name": "stdout",
     "output_type": "stream",
     "text": [
      "     sepal_length  sepal_width  petal_length  petal_width\n",
      "0             5.1          3.5           1.4          0.2\n",
      "1             4.9          3.0           1.4          0.2\n",
      "2             4.7          3.2           1.3          0.2\n",
      "3             4.6          3.1           1.5          0.2\n",
      "4             5.0          3.6           1.4          0.2\n",
      "..            ...          ...           ...          ...\n",
      "145           6.7          3.0           5.2          2.3\n",
      "146           6.3          2.5           5.0          1.9\n",
      "147           6.5          3.0           5.2          2.0\n",
      "148           6.2          3.4           5.4          2.3\n",
      "149           5.9          3.0           5.1          1.8\n",
      "\n",
      "[150 rows x 4 columns]\n",
      "0         setosa\n",
      "1         setosa\n",
      "2         setosa\n",
      "3         setosa\n",
      "4         setosa\n",
      "         ...    \n",
      "145    virginica\n",
      "146    virginica\n",
      "147    virginica\n",
      "148    virginica\n",
      "149    virginica\n",
      "Name: species, Length: 150, dtype: object\n"
     ]
    }
   ],
   "source": [
    "#misalahkan fitur dan label\n",
    "X = iris_df.drop('species', axis=1)\n",
    "Y = iris_df['species']\n",
    "print(X)\n",
    "print(Y)"
   ]
  },
  {
   "cell_type": "code",
   "execution_count": 6,
   "metadata": {},
   "outputs": [],
   "source": [
    "#data train\n",
    "X_train, X_test, Y_train, Y_test = train_test_split(X, Y, test_size=0.2, random_state=42)"
   ]
  },
  {
   "cell_type": "code",
   "execution_count": 7,
   "metadata": {},
   "outputs": [
    {
     "name": "stdout",
     "output_type": "stream",
     "text": [
      "[[-1.47393679  1.22037928 -1.5639872  -1.30948358]\n",
      " [-0.13307079  3.02001693 -1.27728011 -1.04292204]\n",
      " [ 1.08589829  0.09560575  0.38562104  0.28988568]\n",
      " [-1.23014297  0.77046987 -1.21993869 -1.30948358]\n",
      " [-1.7177306   0.32056046 -1.39196294 -1.30948358]\n",
      " [ 0.59831066 -1.25412249  0.72966956  0.95628954]\n",
      " [ 0.72020757  0.32056046  0.44296246  0.42316645]\n",
      " [-0.74255534  0.99542457 -1.27728011 -1.30948358]\n",
      " [-0.98634915  1.22037928 -1.33462153 -1.30948358]\n",
      " [-0.74255534  2.34515281 -1.27728011 -1.44276436]\n",
      " [-0.01117388 -0.80421307  0.78701097  0.95628954]\n",
      " [ 0.23261993  0.77046987  0.44296246  0.55644722]\n",
      " [ 1.08589829  0.09560575  0.5576453   0.42316645]\n",
      " [-0.49876152  1.8952434  -1.39196294 -1.04292204]\n",
      " [-0.49876152  1.44533399 -1.27728011 -1.30948358]\n",
      " [-0.37686461 -1.47907719 -0.01576889 -0.24323741]\n",
      " [ 0.59831066 -0.57925837  0.78701097  0.42316645]\n",
      " [ 0.72020757  0.09560575  1.01637665  0.82300877]\n",
      " [ 0.96400139 -0.12934896  0.38562104  0.28988568]\n",
      " [ 1.69538284  1.22037928  1.36042516  1.75597417]\n",
      " [-0.13307079 -0.35430366  0.2709382   0.15660491]\n",
      " [ 2.18297047 -0.12934896  1.64713226  1.22285108]\n",
      " [-0.2549677  -0.12934896  0.44296246  0.42316645]\n",
      " [-0.86445224  0.99542457 -1.33462153 -1.30948358]\n",
      " [ 2.30486738 -0.57925837  1.70447368  1.08957031]\n",
      " [-0.01117388 -0.80421307  0.21359679 -0.24323741]\n",
      " [-0.74255534  0.77046987 -1.33462153 -1.30948358]\n",
      " [-0.98634915  0.99542457 -1.39196294 -1.17620281]\n",
      " [-0.86445224  1.67028869 -1.04791443 -1.04292204]\n",
      " [-0.98634915 -2.37889602 -0.13045173 -0.24323741]\n",
      " [ 0.59831066 -0.80421307  0.67232814  0.82300877]\n",
      " [-1.23014297  0.77046987 -1.04791443 -1.30948358]\n",
      " [-0.98634915 -0.12934896 -1.21993869 -1.30948358]\n",
      " [-0.86445224  0.54551516 -1.16259727 -0.90964127]\n",
      " [-0.2549677  -0.80421307  0.2709382   0.15660491]\n",
      " [-0.86445224  0.77046987 -1.27728011 -1.30948358]\n",
      " [-0.13307079 -0.12934896  0.2709382   0.02332414]\n",
      " [ 2.30486738  1.67028869  1.70447368  1.35613185]\n",
      " [-1.47393679  0.32056046 -1.33462153 -1.30948358]\n",
      " [ 0.47641375 -0.35430366  0.32827962  0.15660491]\n",
      " [-0.13307079 -1.25412249  0.72966956  1.08957031]\n",
      " [-0.37686461  2.57010752 -1.33462153 -1.30948358]\n",
      " [ 0.23261993 -0.12934896  0.61498672  0.82300877]\n",
      " [-0.01117388 -0.80421307  0.78701097  0.95628954]\n",
      " [ 0.23261993 -1.9289866   0.15625537 -0.24323741]\n",
      " [-0.49876152 -0.12934896  0.44296246  0.42316645]\n",
      " [ 0.47641375  0.77046987  0.95903523  1.48941263]\n",
      " [-0.37686461 -1.7040319   0.15625537  0.15660491]\n",
      " [-0.49876152  1.8952434  -1.16259727 -1.04292204]\n",
      " [-0.98634915 -1.7040319  -0.24513457 -0.24323741]\n",
      " [ 0.72020757 -0.80421307  0.90169381  0.95628954]\n",
      " [-0.98634915  0.54551516 -1.33462153 -1.30948358]\n",
      " [-0.98634915  0.32056046 -1.44930436 -1.30948358]\n",
      " [-0.37686461 -1.47907719  0.04157253 -0.10995664]\n",
      " [ 1.08589829 -0.12934896  0.72966956  0.68972799]\n",
      " [-1.10824606  0.09560575 -1.27728011 -1.44276436]\n",
      " [-0.01117388 -0.57925837  0.78701097  1.6226934 ]\n",
      " [-0.98634915  0.77046987 -1.27728011 -1.30948358]\n",
      " [-0.98634915  0.99542457 -1.21993869 -0.7763605 ]\n",
      " [ 0.11072303  0.32056046  0.61498672  0.82300877]\n",
      " [-0.86445224 -1.25412249 -0.41715882 -0.10995664]\n",
      " [ 1.32969211  0.32056046  1.13105949  1.48941263]\n",
      " [ 0.23261993 -0.80421307  0.78701097  0.55644722]\n",
      " [ 0.35451684 -1.02916778  1.07371807  0.28988568]\n",
      " [ 2.30486738 -0.12934896  1.36042516  1.48941263]\n",
      " [-0.37686461 -1.25412249  0.15625537  0.15660491]\n",
      " [-1.7177306  -0.35430366 -1.33462153 -1.30948358]\n",
      " [-1.83962751 -0.12934896 -1.50664578 -1.44276436]\n",
      " [ 0.23261993 -1.9289866   0.72966956  0.42316645]\n",
      " [ 1.69538284  0.32056046  1.30308374  0.82300877]\n",
      " [-1.47393679  0.09560575 -1.27728011 -1.30948358]\n",
      " [-0.86445224  0.99542457 -1.33462153 -1.17620281]\n",
      " [-1.7177306  -0.12934896 -1.39196294 -1.30948358]\n",
      " [ 0.59831066 -1.25412249  0.67232814  0.42316645]\n",
      " [ 0.59831066  0.77046987  1.07371807  1.6226934 ]\n",
      " [-1.47393679  0.77046987 -1.33462153 -1.17620281]\n",
      " [ 1.2077952  -0.12934896  1.01637665  1.22285108]\n",
      " [ 0.59831066  0.54551516  1.30308374  1.75597417]\n",
      " [-1.35203988  0.32056046 -1.39196294 -1.30948358]\n",
      " [ 0.35451684 -0.35430366  0.5576453   0.28988568]\n",
      " [ 0.84210448 -0.57925837  0.50030388  0.42316645]\n",
      " [ 0.47641375 -0.57925837  0.61498672  0.82300877]\n",
      " [ 1.45158902  0.32056046  0.5576453   0.28988568]\n",
      " [ 0.72020757  0.32056046  0.90169381  1.48941263]\n",
      " [-0.86445224  1.67028869 -1.21993869 -1.30948358]\n",
      " [ 1.32969211  0.09560575  0.95903523  1.22285108]\n",
      " [ 0.11072303 -0.12934896  0.2709382   0.42316645]\n",
      " [ 0.84210448 -0.12934896  0.84435239  1.08957031]\n",
      " [-0.13307079 -1.02916778 -0.13045173 -0.24323741]\n",
      " [-0.74255534 -0.80421307  0.09891395  0.28988568]\n",
      " [ 0.35451684 -0.12934896  0.50030388  0.28988568]\n",
      " [-1.5958337  -1.7040319  -1.39196294 -1.17620281]\n",
      " [ 0.96400139 -0.35430366  0.50030388  0.15660491]\n",
      " [-0.37686461 -1.02916778  0.38562104  0.02332414]\n",
      " [-0.62065843  1.44533399 -1.27728011 -1.30948358]\n",
      " [-0.2549677  -0.12934896  0.21359679  0.15660491]\n",
      " [ 1.81727975 -0.35430366  1.475108    0.82300877]\n",
      " [ 1.08589829  0.54551516  1.13105949  1.22285108]\n",
      " [-0.86445224  1.44533399 -1.27728011 -1.04292204]\n",
      " [-1.10824606 -1.47907719 -0.24513457 -0.24323741]\n",
      " [ 1.08589829  0.54551516  1.13105949  1.75597417]\n",
      " [ 1.69538284 -0.12934896  1.18840091  0.55644722]\n",
      " [-1.10824606  0.09560575 -1.27728011 -1.44276436]\n",
      " [ 1.08589829  0.09560575  1.07371807  1.6226934 ]\n",
      " [-1.10824606 -0.12934896 -1.33462153 -1.30948358]\n",
      " [ 1.32969211  0.09560575  0.67232814  0.42316645]\n",
      " [ 1.93917666 -0.57925837  1.36042516  0.95628954]\n",
      " [ 0.59831066 -0.35430366  1.07371807  0.82300877]\n",
      " [-0.13307079 -0.57925837  0.21359679  0.15660491]\n",
      " [ 0.84210448 -0.12934896  1.01637665  0.82300877]\n",
      " [ 0.59831066 -1.7040319   0.38562104  0.15660491]\n",
      " [ 0.72020757 -0.35430366  0.32827962  0.15660491]\n",
      " [-0.2549677  -0.57925837  0.67232814  1.08957031]\n",
      " [ 0.11072303 -0.12934896  0.78701097  0.82300877]\n",
      " [-0.49876152  0.77046987 -1.16259727 -1.30948358]\n",
      " [ 0.35451684 -0.57925837  0.15625537  0.15660491]\n",
      " [-1.10824606 -1.25412249  0.44296246  0.68972799]\n",
      " [-0.01117388  2.1201981  -1.44930436 -1.30948358]\n",
      " [-0.01117388 -1.02916778  0.15625537  0.02332414]\n",
      " [ 1.57348593 -0.12934896  1.24574233  1.22285108]]\n",
      "[[ 0.14443512 -0.63451517  0.45110832 -0.07943674]\n",
      " [-0.33701527  2.00929805 -1.2060243  -1.20827465]\n",
      " [ 2.07023667 -1.16327782  1.66633891  1.30025404]\n",
      " [ 0.02407252 -0.37013385  0.34063282  0.29684256]\n",
      " [ 0.98697329 -0.63451517  0.50634608  0.17141613]\n",
      " [-0.69810306  0.95177276 -1.3164998  -1.08284822]\n",
      " [-0.45737787 -0.37013385 -0.15650697  0.04598969]\n",
      " [ 1.10733589  0.15862879  0.67205934  1.30025404]\n",
      " [ 0.26479771 -2.22080311  0.34063282  0.29684256]\n",
      " [-0.21665267 -0.8988965   0.00920629 -0.07943674]\n",
      " [ 0.6258855   0.42301012  0.67205934  0.92397473]\n",
      " [-1.42027864 -0.10575253 -1.37173756 -1.45912752]\n",
      " [-0.57774046  1.21615408 -1.42697531 -1.33370109]\n",
      " [-1.29991605  0.15862879 -1.3164998  -1.45912752]\n",
      " [-1.05919085  2.00929805 -1.3164998  -1.20827465]\n",
      " [ 0.38516031  0.68739144  0.45110832  0.422269  ]\n",
      " [ 0.6258855  -0.10575253  1.05872362  1.1748276 ]\n",
      " [-0.45737787 -1.42765914  0.00920629 -0.20486318]\n",
      " [-0.33701527 -0.63451517  0.34063282  0.04598969]\n",
      " [ 0.50552291 -0.63451517  0.94824811  1.1748276 ]\n",
      " [-1.54064124  0.42301012 -1.26126205 -1.33370109]\n",
      " [ 0.14443512 -0.10575253  0.56158383  0.67312186]\n",
      " [-1.17955345  0.95177276 -1.26126205 -1.08284822]\n",
      " [ 0.50552291 -0.63451517  0.94824811  1.04940117]\n",
      " [ 2.31096186  2.00929805  1.39015014  0.92397473]\n",
      " [ 0.8666107  -0.10575253  0.72729709  1.30025404]\n",
      " [ 0.8666107  -1.42765914  1.05872362  0.67312186]\n",
      " [ 0.98697329  0.42301012  1.11396137  1.30025404]\n",
      " [-1.42027864 -0.10575253 -1.37173756 -1.20827465]\n",
      " [-1.42027864  0.15862879 -1.26126205 -1.33370109]]\n"
     ]
    }
   ],
   "source": [
    "scaler= StandardScaler()\n",
    "X_train_scaled = scaler.fit_transform(X_train)\n",
    "X_test_scaled= scaler.fit_transform(X_test)\n",
    "print(X_train_scaled)\n",
    "print(X_test_scaled)"
   ]
  },
  {
   "cell_type": "code",
   "execution_count": 8,
   "metadata": {},
   "outputs": [
    {
     "ename": "ValueError",
     "evalue": "Found input variables with inconsistent numbers of samples: [30, 120]",
     "output_type": "error",
     "traceback": [
      "\u001b[1;31m---------------------------------------------------------------------------\u001b[0m",
      "\u001b[1;31mValueError\u001b[0m                                Traceback (most recent call last)",
      "Cell \u001b[1;32mIn[8], line 2\u001b[0m\n\u001b[0;32m      1\u001b[0m model \u001b[38;5;241m=\u001b[39m LogisticRegression()\n\u001b[1;32m----> 2\u001b[0m \u001b[43mmodel\u001b[49m\u001b[38;5;241;43m.\u001b[39;49m\u001b[43mfit\u001b[49m\u001b[43m(\u001b[49m\u001b[43mX_test_scaled\u001b[49m\u001b[43m,\u001b[49m\u001b[43mY_train\u001b[49m\u001b[43m)\u001b[49m\n",
      "File \u001b[1;32mc:\\Users\\umay2\\AppData\\Local\\Programs\\Python\\Python312\\Lib\\site-packages\\sklearn\\base.py:1474\u001b[0m, in \u001b[0;36m_fit_context.<locals>.decorator.<locals>.wrapper\u001b[1;34m(estimator, *args, **kwargs)\u001b[0m\n\u001b[0;32m   1467\u001b[0m     estimator\u001b[38;5;241m.\u001b[39m_validate_params()\n\u001b[0;32m   1469\u001b[0m \u001b[38;5;28;01mwith\u001b[39;00m config_context(\n\u001b[0;32m   1470\u001b[0m     skip_parameter_validation\u001b[38;5;241m=\u001b[39m(\n\u001b[0;32m   1471\u001b[0m         prefer_skip_nested_validation \u001b[38;5;129;01mor\u001b[39;00m global_skip_validation\n\u001b[0;32m   1472\u001b[0m     )\n\u001b[0;32m   1473\u001b[0m ):\n\u001b[1;32m-> 1474\u001b[0m     \u001b[38;5;28;01mreturn\u001b[39;00m \u001b[43mfit_method\u001b[49m\u001b[43m(\u001b[49m\u001b[43mestimator\u001b[49m\u001b[43m,\u001b[49m\u001b[43m \u001b[49m\u001b[38;5;241;43m*\u001b[39;49m\u001b[43margs\u001b[49m\u001b[43m,\u001b[49m\u001b[43m \u001b[49m\u001b[38;5;241;43m*\u001b[39;49m\u001b[38;5;241;43m*\u001b[39;49m\u001b[43mkwargs\u001b[49m\u001b[43m)\u001b[49m\n",
      "File \u001b[1;32mc:\\Users\\umay2\\AppData\\Local\\Programs\\Python\\Python312\\Lib\\site-packages\\sklearn\\linear_model\\_logistic.py:1201\u001b[0m, in \u001b[0;36mLogisticRegression.fit\u001b[1;34m(self, X, y, sample_weight)\u001b[0m\n\u001b[0;32m   1198\u001b[0m \u001b[38;5;28;01melse\u001b[39;00m:\n\u001b[0;32m   1199\u001b[0m     _dtype \u001b[38;5;241m=\u001b[39m [np\u001b[38;5;241m.\u001b[39mfloat64, np\u001b[38;5;241m.\u001b[39mfloat32]\n\u001b[1;32m-> 1201\u001b[0m X, y \u001b[38;5;241m=\u001b[39m \u001b[38;5;28;43mself\u001b[39;49m\u001b[38;5;241;43m.\u001b[39;49m\u001b[43m_validate_data\u001b[49m\u001b[43m(\u001b[49m\n\u001b[0;32m   1202\u001b[0m \u001b[43m    \u001b[49m\u001b[43mX\u001b[49m\u001b[43m,\u001b[49m\n\u001b[0;32m   1203\u001b[0m \u001b[43m    \u001b[49m\u001b[43my\u001b[49m\u001b[43m,\u001b[49m\n\u001b[0;32m   1204\u001b[0m \u001b[43m    \u001b[49m\u001b[43maccept_sparse\u001b[49m\u001b[38;5;241;43m=\u001b[39;49m\u001b[38;5;124;43m\"\u001b[39;49m\u001b[38;5;124;43mcsr\u001b[39;49m\u001b[38;5;124;43m\"\u001b[39;49m\u001b[43m,\u001b[49m\n\u001b[0;32m   1205\u001b[0m \u001b[43m    \u001b[49m\u001b[43mdtype\u001b[49m\u001b[38;5;241;43m=\u001b[39;49m\u001b[43m_dtype\u001b[49m\u001b[43m,\u001b[49m\n\u001b[0;32m   1206\u001b[0m \u001b[43m    \u001b[49m\u001b[43morder\u001b[49m\u001b[38;5;241;43m=\u001b[39;49m\u001b[38;5;124;43m\"\u001b[39;49m\u001b[38;5;124;43mC\u001b[39;49m\u001b[38;5;124;43m\"\u001b[39;49m\u001b[43m,\u001b[49m\n\u001b[0;32m   1207\u001b[0m \u001b[43m    \u001b[49m\u001b[43maccept_large_sparse\u001b[49m\u001b[38;5;241;43m=\u001b[39;49m\u001b[43msolver\u001b[49m\u001b[43m \u001b[49m\u001b[38;5;129;43;01mnot\u001b[39;49;00m\u001b[43m \u001b[49m\u001b[38;5;129;43;01min\u001b[39;49;00m\u001b[43m \u001b[49m\u001b[43m[\u001b[49m\u001b[38;5;124;43m\"\u001b[39;49m\u001b[38;5;124;43mliblinear\u001b[39;49m\u001b[38;5;124;43m\"\u001b[39;49m\u001b[43m,\u001b[49m\u001b[43m \u001b[49m\u001b[38;5;124;43m\"\u001b[39;49m\u001b[38;5;124;43msag\u001b[39;49m\u001b[38;5;124;43m\"\u001b[39;49m\u001b[43m,\u001b[49m\u001b[43m \u001b[49m\u001b[38;5;124;43m\"\u001b[39;49m\u001b[38;5;124;43msaga\u001b[39;49m\u001b[38;5;124;43m\"\u001b[39;49m\u001b[43m]\u001b[49m\u001b[43m,\u001b[49m\n\u001b[0;32m   1208\u001b[0m \u001b[43m\u001b[49m\u001b[43m)\u001b[49m\n\u001b[0;32m   1209\u001b[0m check_classification_targets(y)\n\u001b[0;32m   1210\u001b[0m \u001b[38;5;28mself\u001b[39m\u001b[38;5;241m.\u001b[39mclasses_ \u001b[38;5;241m=\u001b[39m np\u001b[38;5;241m.\u001b[39munique(y)\n",
      "File \u001b[1;32mc:\\Users\\umay2\\AppData\\Local\\Programs\\Python\\Python312\\Lib\\site-packages\\sklearn\\base.py:650\u001b[0m, in \u001b[0;36mBaseEstimator._validate_data\u001b[1;34m(self, X, y, reset, validate_separately, cast_to_ndarray, **check_params)\u001b[0m\n\u001b[0;32m    648\u001b[0m         y \u001b[38;5;241m=\u001b[39m check_array(y, input_name\u001b[38;5;241m=\u001b[39m\u001b[38;5;124m\"\u001b[39m\u001b[38;5;124my\u001b[39m\u001b[38;5;124m\"\u001b[39m, \u001b[38;5;241m*\u001b[39m\u001b[38;5;241m*\u001b[39mcheck_y_params)\n\u001b[0;32m    649\u001b[0m     \u001b[38;5;28;01melse\u001b[39;00m:\n\u001b[1;32m--> 650\u001b[0m         X, y \u001b[38;5;241m=\u001b[39m \u001b[43mcheck_X_y\u001b[49m\u001b[43m(\u001b[49m\u001b[43mX\u001b[49m\u001b[43m,\u001b[49m\u001b[43m \u001b[49m\u001b[43my\u001b[49m\u001b[43m,\u001b[49m\u001b[43m \u001b[49m\u001b[38;5;241;43m*\u001b[39;49m\u001b[38;5;241;43m*\u001b[39;49m\u001b[43mcheck_params\u001b[49m\u001b[43m)\u001b[49m\n\u001b[0;32m    651\u001b[0m     out \u001b[38;5;241m=\u001b[39m X, y\n\u001b[0;32m    653\u001b[0m \u001b[38;5;28;01mif\u001b[39;00m \u001b[38;5;129;01mnot\u001b[39;00m no_val_X \u001b[38;5;129;01mand\u001b[39;00m check_params\u001b[38;5;241m.\u001b[39mget(\u001b[38;5;124m\"\u001b[39m\u001b[38;5;124mensure_2d\u001b[39m\u001b[38;5;124m\"\u001b[39m, \u001b[38;5;28;01mTrue\u001b[39;00m):\n",
      "File \u001b[1;32mc:\\Users\\umay2\\AppData\\Local\\Programs\\Python\\Python312\\Lib\\site-packages\\sklearn\\utils\\validation.py:1281\u001b[0m, in \u001b[0;36mcheck_X_y\u001b[1;34m(X, y, accept_sparse, accept_large_sparse, dtype, order, copy, force_all_finite, ensure_2d, allow_nd, multi_output, ensure_min_samples, ensure_min_features, y_numeric, estimator)\u001b[0m\n\u001b[0;32m   1263\u001b[0m X \u001b[38;5;241m=\u001b[39m check_array(\n\u001b[0;32m   1264\u001b[0m     X,\n\u001b[0;32m   1265\u001b[0m     accept_sparse\u001b[38;5;241m=\u001b[39maccept_sparse,\n\u001b[1;32m   (...)\u001b[0m\n\u001b[0;32m   1276\u001b[0m     input_name\u001b[38;5;241m=\u001b[39m\u001b[38;5;124m\"\u001b[39m\u001b[38;5;124mX\u001b[39m\u001b[38;5;124m\"\u001b[39m,\n\u001b[0;32m   1277\u001b[0m )\n\u001b[0;32m   1279\u001b[0m y \u001b[38;5;241m=\u001b[39m _check_y(y, multi_output\u001b[38;5;241m=\u001b[39mmulti_output, y_numeric\u001b[38;5;241m=\u001b[39my_numeric, estimator\u001b[38;5;241m=\u001b[39mestimator)\n\u001b[1;32m-> 1281\u001b[0m \u001b[43mcheck_consistent_length\u001b[49m\u001b[43m(\u001b[49m\u001b[43mX\u001b[49m\u001b[43m,\u001b[49m\u001b[43m \u001b[49m\u001b[43my\u001b[49m\u001b[43m)\u001b[49m\n\u001b[0;32m   1283\u001b[0m \u001b[38;5;28;01mreturn\u001b[39;00m X, y\n",
      "File \u001b[1;32mc:\\Users\\umay2\\AppData\\Local\\Programs\\Python\\Python312\\Lib\\site-packages\\sklearn\\utils\\validation.py:457\u001b[0m, in \u001b[0;36mcheck_consistent_length\u001b[1;34m(*arrays)\u001b[0m\n\u001b[0;32m    455\u001b[0m uniques \u001b[38;5;241m=\u001b[39m np\u001b[38;5;241m.\u001b[39munique(lengths)\n\u001b[0;32m    456\u001b[0m \u001b[38;5;28;01mif\u001b[39;00m \u001b[38;5;28mlen\u001b[39m(uniques) \u001b[38;5;241m>\u001b[39m \u001b[38;5;241m1\u001b[39m:\n\u001b[1;32m--> 457\u001b[0m     \u001b[38;5;28;01mraise\u001b[39;00m \u001b[38;5;167;01mValueError\u001b[39;00m(\n\u001b[0;32m    458\u001b[0m         \u001b[38;5;124m\"\u001b[39m\u001b[38;5;124mFound input variables with inconsistent numbers of samples: \u001b[39m\u001b[38;5;132;01m%r\u001b[39;00m\u001b[38;5;124m\"\u001b[39m\n\u001b[0;32m    459\u001b[0m         \u001b[38;5;241m%\u001b[39m [\u001b[38;5;28mint\u001b[39m(l) \u001b[38;5;28;01mfor\u001b[39;00m l \u001b[38;5;129;01min\u001b[39;00m lengths]\n\u001b[0;32m    460\u001b[0m     )\n",
      "\u001b[1;31mValueError\u001b[0m: Found input variables with inconsistent numbers of samples: [30, 120]"
     ]
    }
   ],
   "source": [
    "model = LogisticRegression()\n",
    "model.fit(X_test_scaled,Y_train)"
   ]
  },
  {
   "cell_type": "code",
   "execution_count": null,
   "metadata": {},
   "outputs": [
    {
     "ename": "NotFittedError",
     "evalue": "This LogisticRegression instance is not fitted yet. Call 'fit' with appropriate arguments before using this estimator.",
     "output_type": "error",
     "traceback": [
      "\u001b[1;31m---------------------------------------------------------------------------\u001b[0m",
      "\u001b[1;31mNotFittedError\u001b[0m                            Traceback (most recent call last)",
      "Cell \u001b[1;32mIn[9], line 1\u001b[0m\n\u001b[1;32m----> 1\u001b[0m y_pred \u001b[38;5;241m=\u001b[39m \u001b[43mmodel\u001b[49m\u001b[38;5;241;43m.\u001b[39;49m\u001b[43mpredict\u001b[49m\u001b[43m(\u001b[49m\u001b[43mx_test_scaled\u001b[49m\u001b[43m)\u001b[49m\n\u001b[0;32m      2\u001b[0m accuracy\u001b[38;5;241m=\u001b[39m accuracy_score(y_test, y_pred)\n\u001b[0;32m      3\u001b[0m \u001b[38;5;28mprint\u001b[39m(accuracy)\n",
      "File \u001b[1;32mc:\\Users\\umay2\\AppData\\Local\\Programs\\Python\\Python312\\Lib\\site-packages\\sklearn\\linear_model\\_base.py:351\u001b[0m, in \u001b[0;36mLinearClassifierMixin.predict\u001b[1;34m(self, X)\u001b[0m\n\u001b[0;32m    337\u001b[0m \u001b[38;5;250m\u001b[39m\u001b[38;5;124;03m\"\"\"\u001b[39;00m\n\u001b[0;32m    338\u001b[0m \u001b[38;5;124;03mPredict class labels for samples in X.\u001b[39;00m\n\u001b[0;32m    339\u001b[0m \n\u001b[1;32m   (...)\u001b[0m\n\u001b[0;32m    348\u001b[0m \u001b[38;5;124;03m    Vector containing the class labels for each sample.\u001b[39;00m\n\u001b[0;32m    349\u001b[0m \u001b[38;5;124;03m\"\"\"\u001b[39;00m\n\u001b[0;32m    350\u001b[0m xp, _ \u001b[38;5;241m=\u001b[39m get_namespace(X)\n\u001b[1;32m--> 351\u001b[0m scores \u001b[38;5;241m=\u001b[39m \u001b[38;5;28;43mself\u001b[39;49m\u001b[38;5;241;43m.\u001b[39;49m\u001b[43mdecision_function\u001b[49m\u001b[43m(\u001b[49m\u001b[43mX\u001b[49m\u001b[43m)\u001b[49m\n\u001b[0;32m    352\u001b[0m \u001b[38;5;28;01mif\u001b[39;00m \u001b[38;5;28mlen\u001b[39m(scores\u001b[38;5;241m.\u001b[39mshape) \u001b[38;5;241m==\u001b[39m \u001b[38;5;241m1\u001b[39m:\n\u001b[0;32m    353\u001b[0m     indices \u001b[38;5;241m=\u001b[39m xp\u001b[38;5;241m.\u001b[39mastype(scores \u001b[38;5;241m>\u001b[39m \u001b[38;5;241m0\u001b[39m, \u001b[38;5;28mint\u001b[39m)\n",
      "File \u001b[1;32mc:\\Users\\umay2\\AppData\\Local\\Programs\\Python\\Python312\\Lib\\site-packages\\sklearn\\linear_model\\_base.py:329\u001b[0m, in \u001b[0;36mLinearClassifierMixin.decision_function\u001b[1;34m(self, X)\u001b[0m\n\u001b[0;32m    310\u001b[0m \u001b[38;5;28;01mdef\u001b[39;00m \u001b[38;5;21mdecision_function\u001b[39m(\u001b[38;5;28mself\u001b[39m, X):\n\u001b[0;32m    311\u001b[0m \u001b[38;5;250m    \u001b[39m\u001b[38;5;124;03m\"\"\"\u001b[39;00m\n\u001b[0;32m    312\u001b[0m \u001b[38;5;124;03m    Predict confidence scores for samples.\u001b[39;00m\n\u001b[0;32m    313\u001b[0m \n\u001b[1;32m   (...)\u001b[0m\n\u001b[0;32m    327\u001b[0m \u001b[38;5;124;03m        this class would be predicted.\u001b[39;00m\n\u001b[0;32m    328\u001b[0m \u001b[38;5;124;03m    \"\"\"\u001b[39;00m\n\u001b[1;32m--> 329\u001b[0m     \u001b[43mcheck_is_fitted\u001b[49m\u001b[43m(\u001b[49m\u001b[38;5;28;43mself\u001b[39;49m\u001b[43m)\u001b[49m\n\u001b[0;32m    330\u001b[0m     xp, _ \u001b[38;5;241m=\u001b[39m get_namespace(X)\n\u001b[0;32m    332\u001b[0m     X \u001b[38;5;241m=\u001b[39m \u001b[38;5;28mself\u001b[39m\u001b[38;5;241m.\u001b[39m_validate_data(X, accept_sparse\u001b[38;5;241m=\u001b[39m\u001b[38;5;124m\"\u001b[39m\u001b[38;5;124mcsr\u001b[39m\u001b[38;5;124m\"\u001b[39m, reset\u001b[38;5;241m=\u001b[39m\u001b[38;5;28;01mFalse\u001b[39;00m)\n",
      "File \u001b[1;32mc:\\Users\\umay2\\AppData\\Local\\Programs\\Python\\Python312\\Lib\\site-packages\\sklearn\\utils\\validation.py:1622\u001b[0m, in \u001b[0;36mcheck_is_fitted\u001b[1;34m(estimator, attributes, msg, all_or_any)\u001b[0m\n\u001b[0;32m   1619\u001b[0m     \u001b[38;5;28;01mraise\u001b[39;00m \u001b[38;5;167;01mTypeError\u001b[39;00m(\u001b[38;5;124m\"\u001b[39m\u001b[38;5;132;01m%s\u001b[39;00m\u001b[38;5;124m is not an estimator instance.\u001b[39m\u001b[38;5;124m\"\u001b[39m \u001b[38;5;241m%\u001b[39m (estimator))\n\u001b[0;32m   1621\u001b[0m \u001b[38;5;28;01mif\u001b[39;00m \u001b[38;5;129;01mnot\u001b[39;00m _is_fitted(estimator, attributes, all_or_any):\n\u001b[1;32m-> 1622\u001b[0m     \u001b[38;5;28;01mraise\u001b[39;00m NotFittedError(msg \u001b[38;5;241m%\u001b[39m {\u001b[38;5;124m\"\u001b[39m\u001b[38;5;124mname\u001b[39m\u001b[38;5;124m\"\u001b[39m: \u001b[38;5;28mtype\u001b[39m(estimator)\u001b[38;5;241m.\u001b[39m\u001b[38;5;18m__name__\u001b[39m})\n",
      "\u001b[1;31mNotFittedError\u001b[0m: This LogisticRegression instance is not fitted yet. Call 'fit' with appropriate arguments before using this estimator."
     ]
    }
   ],
   "source": [
    "y_pred = model.predict(x_test_scaled)\n",
    "accuracy= accuracy_score(y_test, y_pred)\n",
    "print(accuracy)"
   ]
  }
 ],
 "metadata": {
  "kernelspec": {
   "display_name": "Python 3",
   "language": "python",
   "name": "python3"
  },
  "language_info": {
   "codemirror_mode": {
    "name": "ipython",
    "version": 3
   },
   "file_extension": ".py",
   "mimetype": "text/x-python",
   "name": "python",
   "nbconvert_exporter": "python",
   "pygments_lexer": "ipython3",
   "version": "3.12.0"
  }
 },
 "nbformat": 4,
 "nbformat_minor": 2
}
